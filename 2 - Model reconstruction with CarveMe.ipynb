{
 "cells": [
  {
   "cell_type": "markdown",
   "metadata": {},
   "source": [
    "## First exercise"
   ]
  },
  {
   "cell_type": "markdown",
   "metadata": {},
   "source": [
    "**CarveMe** is implemented as a command-line tool. You can type commands in jupyter as if you were in a terminal using the '!' sign. \n",
    "\n",
    "Let's try:"
   ]
  },
  {
   "cell_type": "code",
   "execution_count": null,
   "metadata": {},
   "outputs": [],
   "source": [
    "!carve -h"
   ]
  },
  {
   "cell_type": "markdown",
   "metadata": {},
   "source": [
    "This shows you the help menu. You can come back to this menu at any time for help."
   ]
  },
  {
   "cell_type": "markdown",
   "metadata": {},
   "source": [
    "## Second exercise"
   ]
  },
  {
   "cell_type": "markdown",
   "metadata": {},
   "source": [
    "The easiest way to build a model is to start with a RefSeq or Genbank genome assembly accession code. \n",
    "\n",
    "Go to NCBI and find the RefSeq accession code for *E. coli* (strain K-12 MG1655):\n",
    "\n",
    "https://www.ncbi.nlm.nih.gov/\n",
    "\n",
    "Make sure it has the format:  `GCF_xxxxxxxxx.x`"
   ]
  },
  {
   "cell_type": "markdown",
   "metadata": {},
   "source": [
    "Found it? Great!\n",
    "\n",
    "Now replace the code in the next line, then run it:"
   ]
  },
  {
   "cell_type": "code",
   "execution_count": null,
   "metadata": {},
   "outputs": [],
   "source": [
    "!carve --refseq GCF_xxxxxxxxx.x -o ecoli_k12.xml -v"
   ]
  },
  {
   "cell_type": "markdown",
   "metadata": {},
   "source": [
    "This should take no more than 5 minutes to complete. We are using the `-v` flag to turn on *verbose* mode, so we can see what is happening at each step."
   ]
  },
  {
   "cell_type": "markdown",
   "metadata": {},
   "source": [
    "Now let's load the model and run a simple simulation to see if everything is working."
   ]
  },
  {
   "cell_type": "code",
   "execution_count": null,
   "metadata": {},
   "outputs": [],
   "source": [
    "from framed import load_cbmodel, FBA\n",
    "model = load_cbmodel('ecoli_k12.xml', flavor='cobra')\n",
    "solution = FBA(model)\n",
    "print solution"
   ]
  },
  {
   "cell_type": "markdown",
   "metadata": {},
   "source": [
    "Something is not right. Let's look at the exchange flux bounds:"
   ]
  },
  {
   "cell_type": "code",
   "execution_count": null,
   "metadata": {},
   "outputs": [],
   "source": [
    "print model.reactions.R_EX_glc__D_e.lb\n",
    "print model.reactions.R_EX_glc__D_e.ub"
   ]
  },
  {
   "cell_type": "markdown",
   "metadata": {},
   "source": [
    "Not defined? That's because we never said under which conditions *E. coli* was growing. \n",
    "\n",
    "Let's define the uptake reactions to mimic growth under M9 minimal medium:"
   ]
  },
  {
   "cell_type": "code",
   "execution_count": null,
   "metadata": {},
   "outputs": [],
   "source": [
    "from framed import Environment\n",
    "\n",
    "medium = {'ca2', 'cl', 'cobalt2', 'cu2', 'fe2', 'fe3', 'glc__D', 'h2o', 'h',\n",
    "          'k', 'mg2', 'mn2', 'mobd', 'nh4', 'o2', 'pi', 'so4', 'zn2'} \n",
    "\n",
    "Environment.from_compounds(medium).apply(model)"
   ]
  },
  {
   "cell_type": "markdown",
   "metadata": {},
   "source": [
    "Now let's see how that goes:"
   ]
  },
  {
   "cell_type": "code",
   "execution_count": null,
   "metadata": {},
   "outputs": [],
   "source": [
    "solution = FBA(model)\n",
    "print solution "
   ]
  },
  {
   "cell_type": "markdown",
   "metadata": {},
   "source": [
    "As you can see, you can manually define the medium composition to run simulations.\n",
    "\n",
    "However, to make your life easier, **CarveMe** can also build a model pre-initialized with a particular medium composition.\n",
    "\n",
    "So let's build a model again, this time using the `-i` flag."
   ]
  },
  {
   "cell_type": "code",
   "execution_count": null,
   "metadata": {
    "scrolled": true
   },
   "outputs": [],
   "source": [
    "!carve --refseq GCF_xxxxxxxxx.x -o ecoli_k12.xml -i M9 "
   ]
  },
  {
   "cell_type": "markdown",
   "metadata": {},
   "source": [
    "Finished ? \n",
    "\n",
    "Let's reload the model and run a simulation again:"
   ]
  },
  {
   "cell_type": "code",
   "execution_count": null,
   "metadata": {},
   "outputs": [],
   "source": [
    "model = load_cbmodel('ecoli_k12.xml', flavor='cobra')\n",
    "solution = FBA(model)\n",
    "print solution"
   ]
  },
  {
   "cell_type": "markdown",
   "metadata": {},
   "source": [
    "Great! Now things are starting to make sense."
   ]
  },
  {
   "cell_type": "markdown",
   "metadata": {},
   "source": [
    "## Third exercise"
   ]
  },
  {
   "cell_type": "markdown",
   "metadata": {},
   "source": [
    "Time to play by yourself.\n",
    "\n",
    "Pick your favorite organism and build your own model.\n",
    "\n",
    "A few tips:\n",
    "* This time, try using the `-g` flag as well, see how that goes.\n",
    "* You can directly use a fasta file as input (if your favorite genome is not on RefSeq or GenBank).\n",
    "* Please note that (for the moment) only bacteria are supported."
   ]
  },
  {
   "cell_type": "code",
   "execution_count": null,
   "metadata": {},
   "outputs": [],
   "source": []
  }
 ],
 "metadata": {
  "anaconda-cloud": {},
  "kernelspec": {
   "display_name": "Python [default]",
   "language": "python",
   "name": "python2"
  },
  "language_info": {
   "codemirror_mode": {
    "name": "ipython",
    "version": 2
   },
   "file_extension": ".py",
   "mimetype": "text/x-python",
   "name": "python",
   "nbconvert_exporter": "python",
   "pygments_lexer": "ipython2",
   "version": "2.7.14"
  }
 },
 "nbformat": 4,
 "nbformat_minor": 2
}
