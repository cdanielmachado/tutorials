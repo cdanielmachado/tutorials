{
 "cells": [
  {
   "cell_type": "code",
   "execution_count": null,
   "metadata": {},
   "outputs": [],
   "source": [
    "%matplotlib inline"
   ]
  },
  {
   "cell_type": "code",
   "execution_count": null,
   "metadata": {},
   "outputs": [],
   "source": [
    "from framed import load_odemodel, plot_timecourse, find_steady_state\n",
    "from IPython.display import Image\n",
    "import matplotlib.pyplot as plt\n",
    "import seaborn as sns\n",
    "sns.set_style('whitegrid') "
   ]
  },
  {
   "cell_type": "markdown",
   "metadata": {},
   "source": [
    "### Load a kinetic model of glycolysis/PPP in E. coli"
   ]
  },
  {
   "cell_type": "code",
   "execution_count": null,
   "metadata": {},
   "outputs": [],
   "source": [
    "model = load_odemodel('models/Chassagnole2002_fixed.xml')"
   ]
  },
  {
   "cell_type": "code",
   "execution_count": null,
   "metadata": {},
   "outputs": [],
   "source": [
    "Image('misc/chassagnole.png')"
   ]
  },
  {
   "cell_type": "markdown",
   "metadata": {},
   "source": [
    "Let's quickly check the size of the model:"
   ]
  },
  {
   "cell_type": "code",
   "execution_count": null,
   "metadata": {},
   "outputs": [],
   "source": [
    "print 'metabolites:', len(model.metabolites) \n",
    "print 'reactions:', len(model.reactions)  \n",
    "print 'parameters:', len(model.get_parameters())"
   ]
  },
  {
   "cell_type": "markdown",
   "metadata": {},
   "source": [
    "### Simulation - exercise 1"
   ]
  },
  {
   "cell_type": "markdown",
   "metadata": {},
   "source": [
    "Let's run a time-course simulation"
   ]
  },
  {
   "cell_type": "code",
   "execution_count": null,
   "metadata": {},
   "outputs": [],
   "source": [
    "ax = plot_timecourse(model, 100)\n",
    "\n",
    "# this will avoid the legend to overlap with the plot\n",
    "ax.get_legend().set_bbox_to_anchor(bbox=(1.4,1.2))"
   ]
  },
  {
   "cell_type": "markdown",
   "metadata": {},
   "source": [
    "Nothing seems to happen. Why ?"
   ]
  },
  {
   "cell_type": "markdown",
   "metadata": {},
   "source": [
    "### Simulation - exercise 2"
   ]
  },
  {
   "cell_type": "markdown",
   "metadata": {},
   "source": [
    "Let's give it a glucose pulse and see what happens to some key metabolites: "
   ]
  },
  {
   "cell_type": "code",
   "execution_count": null,
   "metadata": {},
   "outputs": [],
   "source": [
    "model.concentrations['cglcex'] = 1"
   ]
  },
  {
   "cell_type": "code",
   "execution_count": null,
   "metadata": {},
   "outputs": [],
   "source": [
    "plot_timecourse(model, 1, metabolites=['cglcex', 'cg6p', 'cfdp', 'cpep', 'cpyr'],\n",
    "                xlabel='time', ylabel='concentration')\n",
    "plt.title(\"1 second after pulse\");"
   ]
  },
  {
   "cell_type": "code",
   "execution_count": null,
   "metadata": {},
   "outputs": [],
   "source": [
    "plot_timecourse(model, 60, metabolites=['cglcex', 'cg6p', 'cfdp', 'cpep', 'cpyr'],\n",
    "                xlabel='time', ylabel='concentration')\n",
    "plt.title(\"1 minute after pulse\");"
   ]
  },
  {
   "cell_type": "code",
   "execution_count": null,
   "metadata": {},
   "outputs": [],
   "source": [
    "plot_timecourse(model, 1200, metabolites=['cglcex', 'cg6p', 'cfdp', 'cpep', 'cpyr'],\n",
    "                xlabel='time', ylabel='concentration')\n",
    "plt.title(\"20 min after pulse\");"
   ]
  },
  {
   "cell_type": "markdown",
   "metadata": {},
   "source": [
    "### Simulation - exercise 3"
   ]
  },
  {
   "cell_type": "markdown",
   "metadata": {},
   "source": [
    "The kinetic model we are working with is simulating growth of E. coli in a chemostat. Let's check what is the pre-defined dilution rate."
   ]
  },
  {
   "cell_type": "code",
   "execution_count": null,
   "metadata": {},
   "outputs": [],
   "source": [
    "print 'Dilution rate (1/h):', model.constant_params['Dil'] * 3600"
   ]
  },
  {
   "cell_type": "markdown",
   "metadata": {},
   "source": [
    "Let's run the same glucose-pulse simulation with a higher dilution rate (Dil = 0.2 $h^{-1}$)."
   ]
  },
  {
   "cell_type": "code",
   "execution_count": null,
   "metadata": {},
   "outputs": [],
   "source": [
    "plot_timecourse(model, 1200, metabolites=['cglcex', 'cg6p', 'cfdp', 'cpep', 'cpyr'],\n",
    "                xlabel='time', ylabel='concentration',\n",
    "                parameters={'Dil': 0.2 / 3600})\n",
    "plt.title(\"20 min after pulse\");"
   ]
  },
  {
   "cell_type": "markdown",
   "metadata": {},
   "source": [
    "Are the final metabolite concentrations the same ?"
   ]
  },
  {
   "cell_type": "markdown",
   "metadata": {},
   "source": [
    "### Steady-state analysis"
   ]
  },
  {
   "cell_type": "markdown",
   "metadata": {},
   "source": [
    "How does the dilution rate affect the metabolite concentrations and fluxes at steady-state? Let's find out!"
   ]
  },
  {
   "cell_type": "code",
   "execution_count": null,
   "metadata": {},
   "outputs": [],
   "source": [
    "dilution_rates = [0.1, 0.2, 0.3, 0.4, 0.5, 0.6, 0.7, 0.8, 0.9, 1.0] # (1/h)"
   ]
  },
  {
   "cell_type": "markdown",
   "metadata": {},
   "source": [
    "Calculate intracellular pyruvate concentration at different dilution rates."
   ]
  },
  {
   "cell_type": "code",
   "execution_count": null,
   "metadata": {},
   "outputs": [],
   "source": [
    "pyruvate = []\n",
    "\n",
    "for dil in dilution_rates:\n",
    "    x, v = find_steady_state(model, parameters={'Dil': dil / 3600})\n",
    "    pyruvate.append(x['cpyr'])"
   ]
  },
  {
   "cell_type": "code",
   "execution_count": null,
   "metadata": {},
   "outputs": [],
   "source": [
    "plt.plot(dilution_rates, pyruvate, 'o-')\n",
    "plt.xlabel('Dilution rate (1/h)')\n",
    "plt.ylabel('Pyruvate concentration (mM)')"
   ]
  },
  {
   "cell_type": "markdown",
   "metadata": {},
   "source": [
    "How does the glucose uptake rate vary with dilution rate? "
   ]
  },
  {
   "cell_type": "code",
   "execution_count": null,
   "metadata": {},
   "outputs": [],
   "source": [
    "glc_uptake = []\n",
    "\n",
    "for dil in dilution_rates:\n",
    "    x, v = find_steady_state(model, parameters={'Dil': dil / 3600})\n",
    "    glc_uptake.append(v['vPTS'])"
   ]
  },
  {
   "cell_type": "code",
   "execution_count": null,
   "metadata": {},
   "outputs": [],
   "source": [
    "plt.plot(dilution_rates, glc_uptake, 'o-')\n",
    "plt.xlabel('Dilution rate (1/h)')\n",
    "plt.ylabel('Glucose uptake rate (mM/s)')"
   ]
  },
  {
   "cell_type": "markdown",
   "metadata": {},
   "source": [
    "What about the ratio between glycolysis and the penthose-phosphate pathway?"
   ]
  },
  {
   "cell_type": "code",
   "execution_count": null,
   "metadata": {},
   "outputs": [],
   "source": [
    "rates_pgi = []\n",
    "rates_g6pdh = []\n",
    "\n",
    "for dil in dilution_rates:\n",
    "    x, v = find_steady_state(model, parameters={'Dil': dil / 3600})\n",
    "    rates_pgi.append(v['vPGI'])\n",
    "    rates_g6pdh.append(v['vG6PDH'])"
   ]
  },
  {
   "cell_type": "code",
   "execution_count": null,
   "metadata": {
    "scrolled": true
   },
   "outputs": [],
   "source": [
    "plt.plot(dilution_rates, rates_pgi, 'o-', dilution_rates, rates_g6pdh, 'o-')\n",
    "plt.legend(['PGI', 'G6PDH'], loc='upper left')\n",
    "plt.xlabel('Dilution rate (1/h)')\n",
    "plt.ylabel('Reaction rate (mM/s)')"
   ]
  },
  {
   "cell_type": "code",
   "execution_count": null,
   "metadata": {},
   "outputs": [],
   "source": []
  }
 ],
 "metadata": {
  "kernelspec": {
   "display_name": "Python [default]",
   "language": "python",
   "name": "python2"
  },
  "language_info": {
   "codemirror_mode": {
    "name": "ipython",
    "version": 2
   },
   "file_extension": ".py",
   "mimetype": "text/x-python",
   "name": "python",
   "nbconvert_exporter": "python",
   "pygments_lexer": "ipython2",
   "version": "2.7.14"
  }
 },
 "nbformat": 4,
 "nbformat_minor": 2
}
