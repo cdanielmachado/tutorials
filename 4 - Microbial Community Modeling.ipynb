{
 "cells": [
  {
   "cell_type": "code",
   "execution_count": 1,
   "metadata": {},
   "outputs": [],
   "source": [
    "from framed import load_cbmodel, pFBA, FBA, Community, Environment\n",
    "from framed.experimental.visualization import build_escher_map"
   ]
  },
  {
   "cell_type": "markdown",
   "metadata": {},
   "source": [
    "## Exercise: simple community with two *E. coli* mutants"
   ]
  },
  {
   "cell_type": "markdown",
   "metadata": {},
   "source": [
    "First, let's load a simple model of central carbon metabolism and make a copy of the model"
   ]
  },
  {
   "cell_type": "code",
   "execution_count": 2,
   "metadata": {},
   "outputs": [],
   "source": [
    "model1 = load_cbmodel('models/e_coli_core.xml', flavor='bigg')\n",
    "model1.reactions.R_ATPM.lb = 0 # we will ignore maintenance ATP for this exercise \n",
    "model2 = model1.copy()"
   ]
  },
  {
   "cell_type": "markdown",
   "metadata": {},
   "source": [
    "The first model is a deletion mutant for ammonium uptake:"
   ]
  },
  {
   "cell_type": "code",
   "execution_count": 3,
   "metadata": {},
   "outputs": [],
   "source": [
    "model1.id = 'ec1'\n",
    "model1.set_flux_bounds('R_NH4t', 0, 0)"
   ]
  },
  {
   "cell_type": "markdown",
   "metadata": {},
   "source": [
    "The second model is a deletion mutant for glucose uptake: "
   ]
  },
  {
   "cell_type": "code",
   "execution_count": 4,
   "metadata": {},
   "outputs": [],
   "source": [
    "model2.id = 'ec2'\n",
    "model2.set_flux_bounds('R_GLCpts', 0, 0)"
   ]
  },
  {
   "cell_type": "markdown",
   "metadata": {},
   "source": [
    "What happens if we try to grow each model individually in minimal medium (pre-defined environment) ? "
   ]
  },
  {
   "cell_type": "code",
   "execution_count": 5,
   "metadata": {},
   "outputs": [
    {
     "name": "stdout",
     "output_type": "stream",
     "text": [
      "Objective: 0.0\n",
      "Status: Optimal\n",
      "\n",
      "Objective: 0.0\n",
      "Status: Optimal\n",
      "\n"
     ]
    }
   ],
   "source": [
    "print FBA(model1)\n",
    "print FBA(model2)"
   ]
  },
  {
   "cell_type": "markdown",
   "metadata": {},
   "source": [
    "Let's clear the individual environmental constraints (we will apply the constraints directly at the community level)."
   ]
  },
  {
   "cell_type": "code",
   "execution_count": 6,
   "metadata": {},
   "outputs": [
    {
     "name": "stdout",
     "output_type": "stream",
     "text": [
      "Compounds in the minimal medium: co2, glc__D, o2, h, h2o, pi, nh4\n"
     ]
    }
   ],
   "source": [
    "env = Environment.from_model(model1)\n",
    "Environment.complete(model1, inplace=True)\n",
    "Environment.complete(model2, inplace=True)"
   ]
  },
  {
   "cell_type": "code",
   "execution_count": 11,
   "metadata": {},
   "outputs": [],
   "source": [
    "community = Community('test', [model1, model2], merge_extracellular_compartments=True,\n",
    "                      extracellular_compartment_id='e')\n",
    "merged = community.merged"
   ]
  },
  {
   "cell_type": "code",
   "execution_count": 16,
   "metadata": {},
   "outputs": [
    {
     "name": "stdout",
     "output_type": "stream",
     "text": [
      "Compounds in the minimal medium: co2, glc__D, o2, h, h2o, pi, nh4\n"
     ]
    }
   ],
   "source": [
    "env.apply(community.merged, inplace=True)\n",
    "print 'Compounds in the minimal medium:', ', '.join(env.get_compounds())"
   ]
  },
  {
   "cell_type": "code",
   "execution_count": null,
   "metadata": {},
   "outputs": [],
   "source": []
  }
 ],
 "metadata": {
  "kernelspec": {
   "display_name": "Python [default]",
   "language": "python",
   "name": "python2"
  },
  "language_info": {
   "codemirror_mode": {
    "name": "ipython",
    "version": 2
   },
   "file_extension": ".py",
   "mimetype": "text/x-python",
   "name": "python",
   "nbconvert_exporter": "python",
   "pygments_lexer": "ipython2",
   "version": "2.7.14"
  }
 },
 "nbformat": 4,
 "nbformat_minor": 2
}
